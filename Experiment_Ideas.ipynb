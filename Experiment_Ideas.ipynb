{
  "nbformat": 4,
  "nbformat_minor": 0,
  "metadata": {
    "colab": {
      "name": "Experiment Ideas",
      "provenance": [],
      "authorship_tag": "ABX9TyP8T5S9qR2VAqD1POUEkvym",
      "include_colab_link": true
    },
    "kernelspec": {
      "name": "python3",
      "display_name": "Python 3"
    },
    "language_info": {
      "name": "python"
    }
  },
  "cells": [
    {
      "cell_type": "markdown",
      "metadata": {
        "id": "view-in-github",
        "colab_type": "text"
      },
      "source": [
        "<a href=\"https://colab.research.google.com/github/paulodowd/EMATM0053_21_22/blob/main/Experiment_Ideas.ipynb\" target=\"_parent\"><img src=\"https://colab.research.google.com/assets/colab-badge.svg\" alt=\"Open In Colab\"/></a>"
      ]
    },
    {
      "cell_type": "markdown",
      "metadata": {
        "id": "mHSTRLPUo1q0"
      },
      "source": [
        "# Experiment Ideas\n",
        "\n",
        "The following ideas are suggestions only and you are free to develop your own tasks and scenarios.\n"
      ]
    },
    {
      "cell_type": "markdown",
      "metadata": {
        "id": "6QY5fd73o7Xi"
      },
      "source": [
        "# 3Pi+ Robot\n",
        "\n",
        "## Key Factors for Return-Home Performance (Kinematic Error)\n",
        "\n",
        "In summary, you should design a focused experiment to evaluate a hypothesis concerning a key factor that effects the ablity for your robot to return to origin after a period of travel. This experiment could build upon the line challenge you solved for Formative Assessment 1.\n",
        "\n",
        "This area of investigation has many potential aspects. We can consider the idea that a robotic system is split across the following domains:\n",
        "\n",
        "- Task: The requirements generally understood and set by human roboticists.\n",
        "- Software: The representation and transformation of knowledge and behaviours.\n",
        "- Hardware: The phyiscal and computational capability afforded by electronics, mechianisms and physical components.\n",
        "- Environment: The task-environment of the robot, which can be structured, unstructured, etc.\n",
        "\n",
        "Accordingly, the following examples (not complete or definitive) might be areas which significantly effect return-home performance. You may select one to assert and test a focused hypothesis, or pursue your own:\n",
        "\n",
        "- Task: Examples include, lines of varied difficulty, or containing biased features, set as a task requirement determined by a human. You may wish to characterise the performance, limits and failure modes of a given robotic solution against varied task configurations.\n",
        "- Software: Examples include, various strategies for motion control or behavioural control against line challenges; the key parameters for kinematics that govern error within the kinematic calculations.\n",
        "- Hardware: Examples include, you may remove the rubber from wheels, work with low-voltage batteries, or experiment with different combinations/approaches to the line sensors.\n",
        "- Environment: Examples include, different environment surfaces (friction, slope,etc), ambient light levels, etc.\n",
        "\n",
        "## A Comparision of Controller types for Line Following\n",
        "\n",
        "This study should compare two different approaches to the control of the 3Pi+ robot to complete the line following task. Careful consideration should be made concerning the rationale and justification for the line used.  Whilst overall and final evaluation metrics such as \"time to complete\" and \"percentage failures\" are useful, this investigation should seek to identify deeper causes of differences between robot controllers.  Therefore, it is recommended to give thought to how to collect data during (across time) the line following behaviour, and what data should be collected.  \n",
        "\n",
        "## Evaluation of PID Control for the 3Pi+ Wheels\n",
        "\n",
        "Within the context of line following PID control of the wheel speeds offers some advantages.  Two of these are:\n",
        "- stable slow wheels speeds are attainable with a PI controller.\n",
        "- smooth transit around curves is attainable with a PI controller. \n",
        "\n",
        "This investigation will design a study to investigate optimal settings for the PID controllers for left and right wheels, through the careful design of an experiment task/environment.  For a given set of PID gains, the task/environment should be explored for the limits of its operation.  For a given task/environment, PID gains should be explored to maximise desirable motion qualities and minimise undesirable qualities.  Careful thought should be given to how and what data to collect from the robot, so that insight can be gained on the performance across time (during operation).  This study should aim to demonstrate a good understanding of the operation of the PID controller. \n",
        "\n",
        "\n",
        "## Comparison of Speed Estimation Approaches\n",
        "\n",
        "In the labsheets, an estimate of the rotational velocity of the wheels is made within `loop()`.  This is a loosely timed process.  There are two alternative approaches to estimating the rotational speed of the wheels.  These are:\n",
        "- A calculation of wheel speed within the encoder ISR (unknown time interval, known distance)\n",
        "- A calculation of wheel speed within a Timer ISR (known time internval, unknown distance)\n",
        "\n",
        "These three methods present different advantages and disadvantages.  The scope of this study is to hypothesise on the differences and to carefullly consider a task/environment where they can be comparatively evaluated.  Further work includes a method for the 3Pi+ to select which measurement method is being used, or to combine the different measurements in a proven useful way.\n",
        "\n",
        "## Mapping/Object Characterisation using the Bump Sensors\n",
        "\n",
        "The bump sensors on the 3Pi+ present an opportunity for your robot to construct a map of objects encountered.  As the robot moves, it is able to approximate it's location using odometry, and so log obstructions into a map.  However, bumping into obstructions is likely to cause wheel slip and odometric error.  \n",
        "\n",
        "This experiment will investigate the quantity of odometric error that occurs when the robot collides with an obstacle.  Follow on work will then attempt to reduce this error, within the context of a task.  Suitable tasks are both mapping and object characterisation:\n",
        "\n",
        "- mapping: the robot should navigate the environment and map obstructions.  The evaluation in this context is likely to concern the study of error accruing over time, and how this effects mapping performance.  The study should make a comparison between a baseline and improved solution, where an improvment is made based on a stated theory, prediction or hypothesis. \n",
        "- obstacle characterisation: as a more focused study, your robot should circumnavigate an obstruction to map the features and shape.  This study may make an evaluation between a known ground-truth of the shape of the object and what was mapped.  Alternatively, this study may evaluate different motion strategies and the limits of their operation (e.g., problematic obstructions, and how/why).\n",
        "\n",
        "## IR Phototaxis\n",
        "\n",
        "The 3Pi+ bump sensors can be used to measure ambient light levels, with a clear change in signal towards greater intensity sources of infra-red light.  However,the bump sensors are located very close together and so their utility as a pair to discern the direction of the IR source is weak.  Therefore, identifying the location of an IR source requires the robot to move.  \n",
        "\n",
        "This investigation requires some thought concerning the context or task set for the robot, and therefore how the bump sensors can be usefully investigated to track or locate an IR source.  \n",
        "\n",
        "## Leader-Follower Motion Control\n",
        "\n",
        "The 3Pi+ bump sensors can give continuous readings (rather than yes/no, on/off).  Using two 3Pi+ robots, their task is for one robot to lead in a specific motion, and for the second robot to follow by maintaining bump-sensor contact from behind.  The continuous readings from the bump-sensors should allow one robot to follow another without pushing the leading-robot off course.  Central challenges and opportunities in this study are:\n",
        "- The leader-robot should be assigned a desired motion, and not deviate.  Thought should be given as to how the actual motion and desired motion of the leader can be evaluated.\n",
        "- The follower-robot should maintain contact but not bump the leader-robot off course.  Thought should be given towards how contact but not bumping can be measured and evaluated via the development of a metric.\n",
        "- The leader-robot should demonstrate stable motion.  Where this is solved easily, the environment can be modified to investigate the stability of the leader-follower relationship around corners and turns of different types.  The motion of the leader should be justified and given rationale within the context of intelligent experimentation with your robot.\n",
        "- A focused study can be made on how well the follower is able to follow the exact path of the leader, with the potential to hypothesise and demonstrate improvements.\n",
        "\n",
        "\n",
        "## Motion Control for Slippery Wheels/Surfaces\n",
        "\n",
        "In summary, it is possible to remove the rubber from the wheels of the 3Pi+, which will effect the error accrued in kinematics on certain surfaces (e.g., glass, hardwood floors). An alternative approach is to present different surfaces to the robot (e.g., a rubber surface, foil surface, plastic surface, etc).\n",
        "\n",
        "This investigation focuses on the idea that wheels will slip on shiny or smooth surfaces. This area of experimentation should characterise the performance of your robot and then develop a new motion strategy to improve the performance under varied conditions. \n",
        "\n",
        "\n",
        "## Advanced Bump-Sensor Operation\n",
        "\n",
        "The 3Pi+ features bump sensors which we have operated with blocking code (e.g., in the labsheets, the main thread of our code waits for the bump sensors to discharge).  Generally, blocking code is undesirable.  \n",
        "\n",
        "It is possible to utilise a Timer peripheral and interrupt to read the bump sensors.  This would approximate reading the bump sensors as a \"background task\".  An advantage to this operation would be that the bump sensors could be polled quickly and continuously by the ISR, operating them through the necessary stages of their read.  This should allow all sensors to independently present their read time, rather than waiting for the slowest sensor to complete.  However, it is likely that an ISR may compromise the computational time remaining for the main thread of the 3Pi+ operation.\n",
        "\n",
        "This study will carefully consider a task and context where quick reads of the line sensors are necessary.  This study will investigate a Timer driven read of the line sensors and characterise the performance.  Evalulated against the task and context, recommendations will be made on the suitability of the technique, and any advantages/disadvantages found.  \n",
        "\n",
        "## Autonomous Optimisation of Motion Parameters\n",
        "\n",
        "In summary, it is possible for the 3Pi+ to collect data on it's own quality of movement.  This information can come from multiple sources within the robotic system, or by using exteroceptive sensors (e.g., kinematics/odometry, control feedback signals, line following, battery usage, etc).  This information can be used to develop and algorithm to optimise motion parameters.  Motion parameters could include PID gains, or the shaping of velocity profiles (e.g., acceleration and/or timing parameters).  \n",
        "\n",
        "This study should first identify a desirable quality of a given motion, and then hypothesise on how key parameters might be adjusted autonomously towards this goal.  It it likely that some thought will need to be given to the experiment method so that a human is not implicated in the many repeated iterations of the algorithm during it's optimisation process.   \n",
        "\n",
        "## Identification and/or Adaptation to slippery surfaces using the IMU\n",
        "\n",
        "The accelerometer and gyro on board the 3Pi+ allow the robot to sense external changes to it's pose (e.g., not commanded by the robot itself).  This study will investigate how the IMU can be used to detect either:\n",
        "- when the wheels are slipping\n",
        "- when the surface has changed\n",
        "with the central idea of detecting a discrepancy between commanded motion and outcome.\n",
        "\n",
        "This study will require some preliminary work to identify the utility of either the gyro or accelerometer, or potentially both in combination.  This study will require some calibration routine for the sensors and sensor processing.  Careful consideration should be given to how an experiment methodology can be made focused and concise.  \n",
        "\n",
        "## Ferrous Object Discovery using a Magnetometer\n",
        "\n",
        "The 3Pi+ has a magnetometer sensor. These sensors are able to detect the earths magnetic field to provide a sense of orientation. However, Magnetometers are notoriously noisy sensors, with error induced from local ferrous objects (e.g., table legs). \n",
        "\n",
        "This experiment works from a general hypothesis that it should be possible to disambiguate induced error from local ferrous objects against prior readings of the earths magnetic field. \n",
        "\n",
        "Your experiment should refine this hypothesis further, presenting good emperical evidence for how this can be achieved, and within what bounds. You may wish to demonstrate the performance of this unusual application of a magnetometer by having your robot able to discover and orientate itself toward a ferrous object."
      ]
    },
    {
      "cell_type": "markdown",
      "metadata": {
        "id": "ayml1CPIlqIZ"
      },
      "source": [
        "<hr><br><br><br><br>"
      ]
    },
    {
      "cell_type": "markdown",
      "metadata": {
        "id": "y5HbsQ-lo8_S"
      },
      "source": [
        "\n",
        "\n",
        "# Webots\n",
        "\n",
        "## Key Factors for Return-Home Performance (Kinematic Error)\n",
        "\n",
        "In summary, you should design a focused experiment to evaluate a hypothesis concerning a key factor that effects the ablity for your robot to return to origin after a period of travel. This experiment could build upon the line challenge you solved for Formative Assessment 1.\n",
        "\n",
        "This area of investigation has many potential aspects. We can consider the idea that a robotic system is split across the following domains:\n",
        "\n",
        "- Task: The requirements generally understood and set by human roboticists.\n",
        "- Software: The representation and transformation of knowledge and behaviours.\n",
        "- Hardware: The phyiscal and computational capability afforded by electronics, mechianisms and physical components.\n",
        "- Environment: The task-environment of the robot, which can be structured, unstructured, etc.\n",
        "\n",
        "Accordingly, the following examples (not complete or definitive) might be areas which significantly effect return-home performance. You may select one to assert and test a focused hypothesis, or pursue your own:\n",
        "\n",
        "- Task: Examples include, lines of varied difficulty, or containing biased features, set as a task requirement determined by a human. You may wish to characterise the performance, limits and failure modes of a given robotic solution against varied task configurations.\n",
        "- Software: Examples include, various strategies for motion control or behavioural control against line challenges; the key parameters for kinematics that govern error within the kinematic calculations.  \n",
        "- Hardware: Examples include, you may remove the rubber from wheels, work with low-voltage batteries, or experiment with different combinations/approaches to the line sensors.\n",
        "- Environment: Examples include the configuration of the line on the arena floor. \n",
        "\n",
        "## A Comparision of Controller types for Line Following\n",
        "\n",
        "This study should compare two different approaches to the control of the e-puck robot to complete the line following task. Careful consideration should be made concerning the rationale and justification for the line used.  Whilst overall and final evaluation metrics such as \"time to complete\" and \"percentage failures\" are useful, this investigation should seek to identify deeper causes of differences between robot controllers.  Therefore, it is recommended to give thought to how to collect data during (across time) the line following behaviour, and what data should be collected.  \n",
        "\n",
        "## Mapping/Object Characterisation using the IR Proximity Sensors\n",
        "\n",
        "The e-puck robot is fitted with IR Proximity sensors.  These sensors are relatively short range and there is a significant risk of colliding with obstacles. Within the context of mapping, a collision is undesirable because it would cause error in the odometry (estimation of robot pose).  \n",
        "\n",
        "This study will therefore address how a robot can navigate an environment, and how to best represent the information within a map.  This investigation should exploit the flexibility offered in simulation to develop a good map in computer memory, and to record evaluative data during the repeated trials of the experiment.\n",
        "\n",
        "The study can be approached in two different contexts:\n",
        "\n",
        "- mapping: the robot should navigate the environment and map obstructions.  The evaluation in this context is likely to concern the study of error accruing over time, and how this effects mapping performance.  Careful thought should be given as to how the map is represented and how this can be used to inform the motion strategy of the robot.  The study should make a comparison between a baseline and improved solution, where an improvment is made based on a stated theory, prediction or hypothesis. \n",
        "\n",
        "- obstacle characterisation: as a more focused study, your robot should circumnavigate an obstruction to map the features and shape.  This study may make an evaluation between a known ground-truth of the shape of the object and what was mapped.  This study should evaluate different motion strategies and the limits of their operation (e.g., problematic obstructions, and how/why).  A more advanced study may look to identify specific shapes (e.g., square, hexagon, triangle) autonomously by employing geometric principles on the constructed map.  \n",
        "\n",
        "\n",
        "## Spot the Difference\n",
        "\n",
        "In this study, you should provide your e-puck robot controller a map of the arena.  Depending on your approach, the arena can either be configured with different obstructions (e.g. the boxes) or different lines on the floor.  The map provided to the robot should detail either of these.  The task of your robot is to navigate the environment and to autonomously identify a significant change between the environment and the map.  Therefore, whilst you provide a complete map, you should remove one feature during each experiment trial.  This study will require some implementation of navigation strategy for your robot to visit the key locations where map features should exist.  \n",
        "\n",
        "Within this study, careful thought should be made towards:\n",
        "- the starting location of the robot, whether this is consistent or randomised\n",
        "- the removal of 1 map feature per experiment trial, and how to evaluate performance when the map feature location may be \"easier\" or \"harder\" for your robot to solve.\n",
        "- an autonomous method to make a comparison between the map provided and the map generated during by the robot the experiment trial.  This should include an autonomous way that your robot is able to identify the map feature location missing.\n",
        "\n",
        "## Coverage\n",
        "\n",
        "A boustrophedon path (e.g. see <a href=\"http://planning.cs.uiuc.edu/node352.html\">here</a>) is a simple way to explore an environment.  However, there are clear disadvantages to the approach.  This study should make careful consideration of a target task environment, and then use a boustrophedon path as a baseline system to evaluate.  Given the results, an alternative improvement should be hypothesised and experimentally evaluated.  The evaluation of the system should take into account more measurements than just the time to complete - e.g., to include the number of times a location is visitied, and a hypothetical energy-cost function for the robot motion.  \n",
        "\n",
        "\n",
        "## Marker Information\n",
        "\n",
        "In this study, you should look to investigate the use of line patterns on the arena floor to signal information to the robot.  The ground sensors on the base of the robot should be investigated to \"read in\" line information on the arena floor, similar to the way a barcode pattern works.  Within the simluation environment, you could choose to investigate this as:\n",
        "- patches of grey-scale colour\n",
        "- patterns of black-white lines\n",
        "\n",
        "After a preliminary study on the performance of the ground sensors in this context, you should provide evidence for how much information can be communicated by the marker technique, and how robust this information is to noise.  \n",
        "\n",
        "\n",
        "## Traffic Flow\n",
        "\n",
        "In this study, you should carefully consider a task where two robots are required to navigate a path that has an intersection.  This could be one robot that continuously drives backwards-and-forwards along a path which another robot must cross without colliding (like a busy cross-road).  Another example is a cross-road where two robots approach each other, and will be configured to turn either left or right, and so must arbitrate who goes first.  \n",
        "\n",
        "This study should look to first of all implement a heuristic (a \"general rule\") to solve the problem of navigating traffic.  Where this is solved easily, the limits and boundary conditions in the task should be explored (e.g., when doesn't the heuristic work?).  Given the results of a heuristic, an alternative method should be investigated and evaluated against the same task conditions.  This could be a method which attempts to predict the behavior of the other robot, or a method that uses noise/randomness to solve the task.  Final evaluations could include one robot operating a heuristic and another randomly, or other combinations.  \n",
        "\n",
        "\n",
        "## Leader-Follower Motion Control\n",
        "\n",
        "The e-puck has IR proximity sensors which can be used to detect another e-puck within the simulated environment.  Using two e-puck robots, their task is for one robot to lead in a specific motion, and for the second robot to follow by maintaining a set safe distance from behind.  \n",
        "\n",
        "Central challenges and opportunities in this study are:\n",
        "- The leader-robot should be assigned a desired motion.  In early work, this might simply be straight line travel.  You should look to investigate increasing difficulties of leader motion.  You should give thought to either using specific lines on the arena floor for the leader to track, or investigate the impact of the leader taking obstacle avoidance motions on the follower-robot.\n",
        "- The follower-robot should maintain a safe distance from the leader-robot.  Thought should be given as to how the distance maintained between leader and follower can be measured and evaluated via the development of a metric.\n",
        "- A focused study can be made on how well the follower is able to follow the exact path of the leader, with the potential to hypothesise and demonstrate improvements.  A simple context here is that, if this were two vehicles on the road taking a corner turn, we would not want the follower to take a shorter route by driving over a pavement."
      ]
    },
    {
      "cell_type": "markdown",
      "metadata": {
        "id": "FYCrecepltBw"
      },
      "source": [
        "<hr><br><br><br><br>\n"
      ]
    },
    {
      "cell_type": "markdown",
      "metadata": {
        "id": "-6uCje6Nl0bx"
      },
      "source": [
        "# 3Pi+ and Webots\n",
        "\n",
        "## Comparison of Webots and 3Pi+ to complete a Line Following Course\n",
        "\n",
        "In this study, you should work to capture data concerning the performance of the simulated e-puck robot in Webots and the real 3Pi+ robot to complete the same line following challenge.  You should carefully consider the line following path to set between simulation and reality, making them as close to identical as possible.  In this study, you should develop some metrics to process the data from Webots and the 3Pi+, such that a meaningful comparison can be made.   For example, utilising the time taken to complete the challenge is not meaningful, because the robots have different characteristics of operation. Therefore, the time to complete would need to be processed to take into account the differences. \n",
        "\n",
        "\n",
        "## 3Pi+ Webots Model\n",
        "\n",
        "This investigation should look to characterise the real performance of the 3Pi+ robot, and implement these characteristics into a model of the robot in Webots.  This study should look to evaluate how well the simulation of the 3Pi+ corresponds the to real 3Pi+. \n",
        "\n"
      ]
    }
  ]
}